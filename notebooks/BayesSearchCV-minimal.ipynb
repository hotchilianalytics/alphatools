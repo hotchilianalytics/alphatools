{
 "cells": [
  {
   "cell_type": "markdown",
   "metadata": {},
   "source": [
    "https://github.com/scikit-optimize/scikit-optimize/blob/master/examples/sklearn-gridsearchcv-replacement.ipynb"
   ]
  },
  {
   "cell_type": "code",
   "execution_count": 2,
   "metadata": {},
   "outputs": [
    {
     "name": "stderr",
     "output_type": "stream",
     "text": [
      "/anaconda3/envs/env_alphatools_stable/lib/python3.5/site-packages/sklearn/model_selection/_split.py:2026: FutureWarning: From version 0.21, test_size will always complement train_size unless both are specified.\n",
      "  FutureWarning)\n",
      "[Parallel(n_jobs=1)]: Done   1 out of   1 | elapsed:    0.0s remaining:    0.0s\n",
      "[Parallel(n_jobs=1)]: Done   2 out of   2 | elapsed:    0.1s remaining:    0.0s\n",
      "[Parallel(n_jobs=1)]: Done   3 out of   3 | elapsed:    0.1s remaining:    0.0s\n",
      "[Parallel(n_jobs=1)]: Done   3 out of   3 | elapsed:    0.1s finished\n"
     ]
    },
    {
     "name": "stdout",
     "output_type": "stream",
     "text": [
      "Fitting 3 folds for each of 1 candidates, totalling 3 fits\n",
      "[CV] degree=2, gamma=0.0114819420903, C=0.00451289378356, kernel=poly \n",
      "[CV]  degree=2, gamma=0.0114819420903, C=0.00451289378356, kernel=poly, score=0.9845132743362832, total=   0.0s\n",
      "[CV] degree=2, gamma=0.0114819420903, C=0.00451289378356, kernel=poly \n",
      "[CV]  degree=2, gamma=0.0114819420903, C=0.00451289378356, kernel=poly, score=0.9844097995545658, total=   0.0s\n",
      "[CV] degree=2, gamma=0.0114819420903, C=0.00451289378356, kernel=poly \n",
      "[CV]  degree=2, gamma=0.0114819420903, C=0.00451289378356, kernel=poly, score=0.9865470852017937, total=   0.0s\n",
      "Fitting 3 folds for each of 1 candidates, totalling 3 fits\n",
      "[CV] degree=8, gamma=0.0477407445823, C=0.00573904935603, kernel=rbf .\n",
      "[CV]  degree=8, gamma=0.0477407445823, C=0.00573904935603, kernel=rbf, score=0.10619469026548672, total=   0.2s\n",
      "[CV] degree=8, gamma=0.0477407445823, C=0.00573904935603, kernel=rbf .\n",
      "[CV]  degree=8, gamma=0.0477407445823, C=0.00573904935603, kernel=rbf, score=0.10690423162583519, total=   0.2s\n",
      "[CV] degree=8, gamma=0.0477407445823, C=0.00573904935603, kernel=rbf .\n"
     ]
    },
    {
     "name": "stderr",
     "output_type": "stream",
     "text": [
      "[Parallel(n_jobs=1)]: Done   1 out of   1 | elapsed:    0.2s remaining:    0.0s\n",
      "[Parallel(n_jobs=1)]: Done   2 out of   2 | elapsed:    0.3s remaining:    0.0s\n"
     ]
    },
    {
     "name": "stdout",
     "output_type": "stream",
     "text": [
      "[CV]  degree=8, gamma=0.0477407445823, C=0.00573904935603, kernel=rbf, score=0.10538116591928251, total=   0.2s\n",
      "Fitting 3 folds for each of 1 candidates, totalling 3 fits\n",
      "[CV] degree=2, gamma=2.45808239286e-05, C=274999.424217, kernel=linear \n",
      "[CV]  degree=2, gamma=2.45808239286e-05, C=274999.424217, kernel=linear, score=0.9712389380530974, total=   0.0s\n",
      "[CV] degree=2, gamma=2.45808239286e-05, C=274999.424217, kernel=linear \n",
      "[CV]  degree=2, gamma=2.45808239286e-05, C=274999.424217, kernel=linear, score=0.9755011135857461, total=   0.0s\n",
      "[CV] degree=2, gamma=2.45808239286e-05, C=274999.424217, kernel=linear \n",
      "[CV]  degree=2, gamma=2.45808239286e-05, C=274999.424217, kernel=linear, score=0.984304932735426, total=   0.0s\n",
      "Fitting 3 folds for each of 1 candidates, totalling 3 fits\n",
      "[CV] degree=4, gamma=7.62376961478e-06, C=3.18412712844e-05, kernel=linear \n",
      "[CV]  degree=4, gamma=7.62376961478e-06, C=3.18412712844e-05, kernel=linear, score=0.8893805309734514, total=   0.1s\n",
      "[CV] degree=4, gamma=7.62376961478e-06, C=3.18412712844e-05, kernel=linear \n"
     ]
    },
    {
     "name": "stderr",
     "output_type": "stream",
     "text": [
      "[Parallel(n_jobs=1)]: Done   3 out of   3 | elapsed:    0.5s remaining:    0.0s\n",
      "[Parallel(n_jobs=1)]: Done   3 out of   3 | elapsed:    0.5s finished\n",
      "[Parallel(n_jobs=1)]: Done   1 out of   1 | elapsed:    0.0s remaining:    0.0s\n",
      "[Parallel(n_jobs=1)]: Done   2 out of   2 | elapsed:    0.1s remaining:    0.0s\n",
      "[Parallel(n_jobs=1)]: Done   3 out of   3 | elapsed:    0.1s remaining:    0.0s\n",
      "[Parallel(n_jobs=1)]: Done   3 out of   3 | elapsed:    0.1s finished\n",
      "[Parallel(n_jobs=1)]: Done   1 out of   1 | elapsed:    0.1s remaining:    0.0s\n"
     ]
    },
    {
     "name": "stdout",
     "output_type": "stream",
     "text": [
      "[CV]  degree=4, gamma=7.62376961478e-06, C=3.18412712844e-05, kernel=linear, score=0.9309576837416481, total=   0.1s\n",
      "[CV] degree=4, gamma=7.62376961478e-06, C=3.18412712844e-05, kernel=linear \n",
      "[CV]  degree=4, gamma=7.62376961478e-06, C=3.18412712844e-05, kernel=linear, score=0.9080717488789237, total=   0.1s\n",
      "Fitting 3 folds for each of 1 candidates, totalling 3 fits\n",
      "[CV] degree=5, gamma=0.285398070555, C=23859.3847898, kernel=poly ....\n",
      "[CV]  degree=5, gamma=0.285398070555, C=23859.3847898, kernel=poly, score=0.9845132743362832, total=   0.0s\n",
      "[CV] degree=5, gamma=0.285398070555, C=23859.3847898, kernel=poly ....\n",
      "[CV]  degree=5, gamma=0.285398070555, C=23859.3847898, kernel=poly, score=0.9821826280623608, total=   0.0s\n",
      "[CV] degree=5, gamma=0.285398070555, C=23859.3847898, kernel=poly ....\n"
     ]
    },
    {
     "name": "stderr",
     "output_type": "stream",
     "text": [
      "[Parallel(n_jobs=1)]: Done   2 out of   2 | elapsed:    0.2s remaining:    0.0s\n",
      "[Parallel(n_jobs=1)]: Done   3 out of   3 | elapsed:    0.3s remaining:    0.0s\n",
      "[Parallel(n_jobs=1)]: Done   3 out of   3 | elapsed:    0.3s finished\n",
      "[Parallel(n_jobs=1)]: Done   1 out of   1 | elapsed:    0.0s remaining:    0.0s\n",
      "[Parallel(n_jobs=1)]: Done   2 out of   2 | elapsed:    0.1s remaining:    0.0s\n"
     ]
    },
    {
     "name": "stdout",
     "output_type": "stream",
     "text": [
      "[CV]  degree=5, gamma=0.285398070555, C=23859.3847898, kernel=poly, score=0.9820627802690582, total=   0.0s\n",
      "Fitting 3 folds for each of 1 candidates, totalling 3 fits\n",
      "[CV] degree=7, gamma=0.684963594105, C=103.900442256, kernel=poly ....\n",
      "[CV]  degree=7, gamma=0.684963594105, C=103.900442256, kernel=poly, score=0.9712389380530974, total=   0.0s\n",
      "[CV] degree=7, gamma=0.684963594105, C=103.900442256, kernel=poly ....\n",
      "[CV]  degree=7, gamma=0.684963594105, C=103.900442256, kernel=poly, score=0.9755011135857461, total=   0.0s\n",
      "[CV] degree=7, gamma=0.684963594105, C=103.900442256, kernel=poly ....\n",
      "[CV]  degree=7, gamma=0.684963594105, C=103.900442256, kernel=poly, score=0.9641255605381166, total=   0.0s\n",
      "Fitting 3 folds for each of 1 candidates, totalling 3 fits\n",
      "[CV] degree=1, gamma=0.0501731363531, C=0.00227359460208, kernel=rbf .\n"
     ]
    },
    {
     "name": "stderr",
     "output_type": "stream",
     "text": [
      "[Parallel(n_jobs=1)]: Done   3 out of   3 | elapsed:    0.1s remaining:    0.0s\n",
      "[Parallel(n_jobs=1)]: Done   3 out of   3 | elapsed:    0.1s finished\n",
      "[Parallel(n_jobs=1)]: Done   1 out of   1 | elapsed:    0.0s remaining:    0.0s\n",
      "[Parallel(n_jobs=1)]: Done   2 out of   2 | elapsed:    0.1s remaining:    0.0s\n",
      "[Parallel(n_jobs=1)]: Done   3 out of   3 | elapsed:    0.1s remaining:    0.0s\n",
      "[Parallel(n_jobs=1)]: Done   3 out of   3 | elapsed:    0.1s finished\n"
     ]
    },
    {
     "name": "stdout",
     "output_type": "stream",
     "text": [
      "[CV]  degree=1, gamma=0.0501731363531, C=0.00227359460208, kernel=rbf, score=0.10619469026548672, total=   0.2s\n",
      "[CV] degree=1, gamma=0.0501731363531, C=0.00227359460208, kernel=rbf .\n",
      "[CV]  degree=1, gamma=0.0501731363531, C=0.00227359460208, kernel=rbf, score=0.10690423162583519, total=   0.2s\n",
      "[CV] degree=1, gamma=0.0501731363531, C=0.00227359460208, kernel=rbf .\n"
     ]
    },
    {
     "name": "stderr",
     "output_type": "stream",
     "text": [
      "[Parallel(n_jobs=1)]: Done   1 out of   1 | elapsed:    0.2s remaining:    0.0s\n",
      "[Parallel(n_jobs=1)]: Done   2 out of   2 | elapsed:    0.3s remaining:    0.0s\n"
     ]
    },
    {
     "name": "stdout",
     "output_type": "stream",
     "text": [
      "[CV]  degree=1, gamma=0.0501731363531, C=0.00227359460208, kernel=rbf, score=0.10538116591928251, total=   0.2s\n",
      "Fitting 3 folds for each of 1 candidates, totalling 3 fits\n",
      "[CV] degree=6, gamma=1.79783318205e-06, C=3.63505997763, kernel=rbf ..\n",
      "[CV]  degree=6, gamma=1.79783318205e-06, C=3.63505997763, kernel=rbf, score=0.7256637168141593, total=   0.2s\n",
      "[CV] degree=6, gamma=1.79783318205e-06, C=3.63505997763, kernel=rbf ..\n"
     ]
    },
    {
     "name": "stderr",
     "output_type": "stream",
     "text": [
      "[Parallel(n_jobs=1)]: Done   3 out of   3 | elapsed:    0.5s remaining:    0.0s\n",
      "[Parallel(n_jobs=1)]: Done   3 out of   3 | elapsed:    0.5s finished\n",
      "[Parallel(n_jobs=1)]: Done   1 out of   1 | elapsed:    0.2s remaining:    0.0s\n"
     ]
    },
    {
     "name": "stdout",
     "output_type": "stream",
     "text": [
      "[CV]  degree=6, gamma=1.79783318205e-06, C=3.63505997763, kernel=rbf, score=0.7282850779510023, total=   0.2s\n",
      "[CV] degree=6, gamma=1.79783318205e-06, C=3.63505997763, kernel=rbf ..\n",
      "[CV]  degree=6, gamma=1.79783318205e-06, C=3.63505997763, kernel=rbf, score=0.7219730941704036, total=   0.2s\n",
      "Fitting 3 folds for each of 1 candidates, totalling 3 fits\n",
      "[CV] degree=2, gamma=1.32813543887e-06, C=73354.6295744, kernel=linear \n",
      "[CV]  degree=2, gamma=1.32813543887e-06, C=73354.6295744, kernel=linear, score=0.9712389380530974, total=   0.0s\n",
      "[CV] degree=2, gamma=1.32813543887e-06, C=73354.6295744, kernel=linear \n"
     ]
    },
    {
     "name": "stderr",
     "output_type": "stream",
     "text": [
      "[Parallel(n_jobs=1)]: Done   2 out of   2 | elapsed:    0.3s remaining:    0.0s\n",
      "[Parallel(n_jobs=1)]: Done   3 out of   3 | elapsed:    0.5s remaining:    0.0s\n",
      "[Parallel(n_jobs=1)]: Done   3 out of   3 | elapsed:    0.5s finished\n",
      "[Parallel(n_jobs=1)]: Done   1 out of   1 | elapsed:    0.0s remaining:    0.0s\n"
     ]
    },
    {
     "name": "stdout",
     "output_type": "stream",
     "text": [
      "[CV]  degree=2, gamma=1.32813543887e-06, C=73354.6295744, kernel=linear, score=0.9755011135857461, total=   0.0s\n",
      "[CV] degree=2, gamma=1.32813543887e-06, C=73354.6295744, kernel=linear \n",
      "[CV]  degree=2, gamma=1.32813543887e-06, C=73354.6295744, kernel=linear, score=0.984304932735426, total=   0.0s\n"
     ]
    },
    {
     "name": "stderr",
     "output_type": "stream",
     "text": [
      "[Parallel(n_jobs=1)]: Done   2 out of   2 | elapsed:    0.1s remaining:    0.0s\n",
      "[Parallel(n_jobs=1)]: Done   3 out of   3 | elapsed:    0.1s remaining:    0.0s\n",
      "[Parallel(n_jobs=1)]: Done   3 out of   3 | elapsed:    0.1s finished\n"
     ]
    },
    {
     "name": "stdout",
     "output_type": "stream",
     "text": [
      "Fitting 3 folds for each of 1 candidates, totalling 3 fits\n",
      "[CV] degree=8, gamma=0.0114804020544, C=9216.57360449, kernel=poly ...\n",
      "[CV]  degree=8, gamma=0.0114804020544, C=9216.57360449, kernel=poly, score=0.9646017699115044, total=   0.0s\n",
      "[CV] degree=8, gamma=0.0114804020544, C=9216.57360449, kernel=poly ...\n",
      "[CV]  degree=8, gamma=0.0114804020544, C=9216.57360449, kernel=poly, score=0.9732739420935412, total=   0.0s\n",
      "[CV] degree=8, gamma=0.0114804020544, C=9216.57360449, kernel=poly ...\n",
      "[CV]  degree=8, gamma=0.0114804020544, C=9216.57360449, kernel=poly, score=0.9596412556053812, total=   0.0s\n"
     ]
    },
    {
     "name": "stderr",
     "output_type": "stream",
     "text": [
      "[Parallel(n_jobs=1)]: Done   1 out of   1 | elapsed:    0.0s remaining:    0.0s\n",
      "[Parallel(n_jobs=1)]: Done   2 out of   2 | elapsed:    0.1s remaining:    0.0s\n",
      "[Parallel(n_jobs=1)]: Done   3 out of   3 | elapsed:    0.1s remaining:    0.0s\n",
      "[Parallel(n_jobs=1)]: Done   3 out of   3 | elapsed:    0.1s finished\n"
     ]
    },
    {
     "name": "stdout",
     "output_type": "stream",
     "text": [
      "Fitting 3 folds for each of 1 candidates, totalling 3 fits\n",
      "[CV] degree=1, gamma=0.143110285828, C=1e-06, kernel=linear ..........\n",
      "[CV]  degree=1, gamma=0.143110285828, C=1e-06, kernel=linear, score=0.10619469026548672, total=   0.1s\n",
      "[CV] degree=1, gamma=0.143110285828, C=1e-06, kernel=linear ..........\n"
     ]
    },
    {
     "name": "stderr",
     "output_type": "stream",
     "text": [
      "[Parallel(n_jobs=1)]: Done   1 out of   1 | elapsed:    0.1s remaining:    0.0s\n",
      "[Parallel(n_jobs=1)]: Done   2 out of   2 | elapsed:    0.2s remaining:    0.0s\n"
     ]
    },
    {
     "name": "stdout",
     "output_type": "stream",
     "text": [
      "[CV]  degree=1, gamma=0.143110285828, C=1e-06, kernel=linear, score=0.10690423162583519, total=   0.1s\n",
      "[CV] degree=1, gamma=0.143110285828, C=1e-06, kernel=linear ..........\n",
      "[CV]  degree=1, gamma=0.143110285828, C=1e-06, kernel=linear, score=0.10538116591928251, total=   0.1s\n"
     ]
    },
    {
     "name": "stderr",
     "output_type": "stream",
     "text": [
      "[Parallel(n_jobs=1)]: Done   3 out of   3 | elapsed:    0.4s remaining:    0.0s\n",
      "[Parallel(n_jobs=1)]: Done   3 out of   3 | elapsed:    0.4s finished\n"
     ]
    },
    {
     "name": "stdout",
     "output_type": "stream",
     "text": [
      "Fitting 3 folds for each of 1 candidates, totalling 3 fits\n",
      "[CV] degree=1, gamma=1e-06, C=1e-06, kernel=poly .....................\n",
      "[CV]  degree=1, gamma=1e-06, C=1e-06, kernel=poly, score=0.10619469026548672, total=   0.1s\n",
      "[CV] degree=1, gamma=1e-06, C=1e-06, kernel=poly .....................\n"
     ]
    },
    {
     "name": "stderr",
     "output_type": "stream",
     "text": [
      "[Parallel(n_jobs=1)]: Done   1 out of   1 | elapsed:    0.1s remaining:    0.0s\n",
      "[Parallel(n_jobs=1)]: Done   2 out of   2 | elapsed:    0.3s remaining:    0.0s\n"
     ]
    },
    {
     "name": "stdout",
     "output_type": "stream",
     "text": [
      "[CV]  degree=1, gamma=1e-06, C=1e-06, kernel=poly, score=0.10690423162583519, total=   0.1s\n",
      "[CV] degree=1, gamma=1e-06, C=1e-06, kernel=poly .....................\n",
      "[CV]  degree=1, gamma=1e-06, C=1e-06, kernel=poly, score=0.10538116591928251, total=   0.1s\n"
     ]
    },
    {
     "name": "stderr",
     "output_type": "stream",
     "text": [
      "[Parallel(n_jobs=1)]: Done   3 out of   3 | elapsed:    0.4s remaining:    0.0s\n",
      "[Parallel(n_jobs=1)]: Done   3 out of   3 | elapsed:    0.4s finished\n"
     ]
    },
    {
     "name": "stdout",
     "output_type": "stream",
     "text": [
      "Fitting 3 folds for each of 1 candidates, totalling 3 fits\n",
      "[CV] degree=1, gamma=0.024314784108, C=1e-06, kernel=poly ............\n",
      "[CV]  degree=1, gamma=0.024314784108, C=1e-06, kernel=poly, score=0.10619469026548672, total=   0.1s\n",
      "[CV] degree=1, gamma=0.024314784108, C=1e-06, kernel=poly ............\n"
     ]
    },
    {
     "name": "stderr",
     "output_type": "stream",
     "text": [
      "[Parallel(n_jobs=1)]: Done   1 out of   1 | elapsed:    0.1s remaining:    0.0s\n",
      "[Parallel(n_jobs=1)]: Done   2 out of   2 | elapsed:    0.3s remaining:    0.0s\n"
     ]
    },
    {
     "name": "stdout",
     "output_type": "stream",
     "text": [
      "[CV]  degree=1, gamma=0.024314784108, C=1e-06, kernel=poly, score=0.10690423162583519, total=   0.1s\n",
      "[CV] degree=1, gamma=0.024314784108, C=1e-06, kernel=poly ............\n",
      "[CV]  degree=1, gamma=0.024314784108, C=1e-06, kernel=poly, score=0.10538116591928251, total=   0.1s\n"
     ]
    },
    {
     "name": "stderr",
     "output_type": "stream",
     "text": [
      "[Parallel(n_jobs=1)]: Done   3 out of   3 | elapsed:    0.4s remaining:    0.0s\n",
      "[Parallel(n_jobs=1)]: Done   3 out of   3 | elapsed:    0.4s finished\n"
     ]
    },
    {
     "name": "stdout",
     "output_type": "stream",
     "text": [
      "Fitting 3 folds for each of 1 candidates, totalling 3 fits\n",
      "[CV] degree=2, gamma=10.0, C=1e-06, kernel=poly ......................\n",
      "[CV]  degree=2, gamma=10.0, C=1e-06, kernel=poly, score=0.9823008849557522, total=   0.0s\n",
      "[CV] degree=2, gamma=10.0, C=1e-06, kernel=poly ......................\n",
      "[CV]  degree=2, gamma=10.0, C=1e-06, kernel=poly, score=0.9844097995545658, total=   0.0s\n",
      "[CV] degree=2, gamma=10.0, C=1e-06, kernel=poly ......................\n",
      "[CV]  degree=2, gamma=10.0, C=1e-06, kernel=poly, score=0.984304932735426, total=   0.0s\n"
     ]
    },
    {
     "name": "stderr",
     "output_type": "stream",
     "text": [
      "[Parallel(n_jobs=1)]: Done   1 out of   1 | elapsed:    0.0s remaining:    0.0s\n",
      "[Parallel(n_jobs=1)]: Done   2 out of   2 | elapsed:    0.1s remaining:    0.0s\n",
      "[Parallel(n_jobs=1)]: Done   3 out of   3 | elapsed:    0.1s remaining:    0.0s\n",
      "[Parallel(n_jobs=1)]: Done   3 out of   3 | elapsed:    0.1s finished\n"
     ]
    },
    {
     "name": "stdout",
     "output_type": "stream",
     "text": [
      "Fitting 3 folds for each of 1 candidates, totalling 3 fits\n",
      "[CV] degree=6, gamma=3.96369723224e-06, C=0.0599909289422, kernel=poly \n",
      "[CV]  degree=6, gamma=3.96369723224e-06, C=0.0599909289422, kernel=poly, score=0.10619469026548672, total=   0.1s\n",
      "[CV] degree=6, gamma=3.96369723224e-06, C=0.0599909289422, kernel=poly \n"
     ]
    },
    {
     "name": "stderr",
     "output_type": "stream",
     "text": [
      "[Parallel(n_jobs=1)]: Done   1 out of   1 | elapsed:    0.1s remaining:    0.0s\n",
      "[Parallel(n_jobs=1)]: Done   2 out of   2 | elapsed:    0.3s remaining:    0.0s\n"
     ]
    },
    {
     "name": "stdout",
     "output_type": "stream",
     "text": [
      "[CV]  degree=6, gamma=3.96369723224e-06, C=0.0599909289422, kernel=poly, score=0.10690423162583519, total=   0.1s\n",
      "[CV] degree=6, gamma=3.96369723224e-06, C=0.0599909289422, kernel=poly \n",
      "[CV]  degree=6, gamma=3.96369723224e-06, C=0.0599909289422, kernel=poly, score=0.10538116591928251, total=   0.1s\n"
     ]
    },
    {
     "name": "stderr",
     "output_type": "stream",
     "text": [
      "[Parallel(n_jobs=1)]: Done   3 out of   3 | elapsed:    0.4s remaining:    0.0s\n",
      "[Parallel(n_jobs=1)]: Done   3 out of   3 | elapsed:    0.4s finished\n"
     ]
    },
    {
     "name": "stdout",
     "output_type": "stream",
     "text": [
      "Fitting 3 folds for each of 1 candidates, totalling 3 fits\n",
      "[CV] degree=2, gamma=0.0112533170762, C=0.0132075031345, kernel=poly .\n",
      "[CV]  degree=2, gamma=0.0112533170762, C=0.0132075031345, kernel=poly, score=0.9823008849557522, total=   0.0s\n",
      "[CV] degree=2, gamma=0.0112533170762, C=0.0132075031345, kernel=poly .\n",
      "[CV]  degree=2, gamma=0.0112533170762, C=0.0132075031345, kernel=poly, score=0.9844097995545658, total=   0.0s\n",
      "[CV] degree=2, gamma=0.0112533170762, C=0.0132075031345, kernel=poly .\n",
      "[CV]  degree=2, gamma=0.0112533170762, C=0.0132075031345, kernel=poly, score=0.984304932735426, total=   0.0s\n"
     ]
    },
    {
     "name": "stderr",
     "output_type": "stream",
     "text": [
      "[Parallel(n_jobs=1)]: Done   1 out of   1 | elapsed:    0.0s remaining:    0.0s\n",
      "[Parallel(n_jobs=1)]: Done   2 out of   2 | elapsed:    0.1s remaining:    0.0s\n",
      "[Parallel(n_jobs=1)]: Done   3 out of   3 | elapsed:    0.1s remaining:    0.0s\n",
      "[Parallel(n_jobs=1)]: Done   3 out of   3 | elapsed:    0.1s finished\n"
     ]
    },
    {
     "name": "stdout",
     "output_type": "stream",
     "text": [
      "Fitting 3 folds for each of 1 candidates, totalling 3 fits\n",
      "[CV] degree=6, gamma=0.121092794492, C=5046.27179163, kernel=poly ....\n",
      "[CV]  degree=6, gamma=0.121092794492, C=5046.27179163, kernel=poly, score=0.9823008849557522, total=   0.0s\n",
      "[CV] degree=6, gamma=0.121092794492, C=5046.27179163, kernel=poly ....\n",
      "[CV]  degree=6, gamma=0.121092794492, C=5046.27179163, kernel=poly, score=0.9821826280623608, total=   0.0s\n",
      "[CV] degree=6, gamma=0.121092794492, C=5046.27179163, kernel=poly ....\n",
      "[CV]  degree=6, gamma=0.121092794492, C=5046.27179163, kernel=poly, score=0.9775784753363229, total=   0.0s\n"
     ]
    },
    {
     "name": "stderr",
     "output_type": "stream",
     "text": [
      "[Parallel(n_jobs=1)]: Done   1 out of   1 | elapsed:    0.0s remaining:    0.0s\n",
      "[Parallel(n_jobs=1)]: Done   2 out of   2 | elapsed:    0.1s remaining:    0.0s\n",
      "[Parallel(n_jobs=1)]: Done   3 out of   3 | elapsed:    0.1s remaining:    0.0s\n",
      "[Parallel(n_jobs=1)]: Done   3 out of   3 | elapsed:    0.1s finished\n"
     ]
    },
    {
     "name": "stdout",
     "output_type": "stream",
     "text": [
      "Fitting 3 folds for each of 1 candidates, totalling 3 fits\n",
      "[CV] degree=2, gamma=0.0220622134341, C=0.00803822309915, kernel=poly \n",
      "[CV]  degree=2, gamma=0.0220622134341, C=0.00803822309915, kernel=poly, score=0.9823008849557522, total=   0.0s\n",
      "[CV] degree=2, gamma=0.0220622134341, C=0.00803822309915, kernel=poly \n",
      "[CV]  degree=2, gamma=0.0220622134341, C=0.00803822309915, kernel=poly, score=0.9844097995545658, total=   0.0s\n",
      "[CV] degree=2, gamma=0.0220622134341, C=0.00803822309915, kernel=poly \n",
      "[CV]  degree=2, gamma=0.0220622134341, C=0.00803822309915, kernel=poly, score=0.984304932735426, total=   0.0s\n"
     ]
    },
    {
     "name": "stderr",
     "output_type": "stream",
     "text": [
      "[Parallel(n_jobs=1)]: Done   1 out of   1 | elapsed:    0.0s remaining:    0.0s\n",
      "[Parallel(n_jobs=1)]: Done   2 out of   2 | elapsed:    0.1s remaining:    0.0s\n",
      "[Parallel(n_jobs=1)]: Done   3 out of   3 | elapsed:    0.1s remaining:    0.0s\n",
      "[Parallel(n_jobs=1)]: Done   3 out of   3 | elapsed:    0.1s finished\n"
     ]
    },
    {
     "name": "stdout",
     "output_type": "stream",
     "text": [
      "Fitting 3 folds for each of 1 candidates, totalling 3 fits\n",
      "[CV] degree=2, gamma=10.0, C=6.55155678791e-06, kernel=poly ..........\n",
      "[CV]  degree=2, gamma=10.0, C=6.55155678791e-06, kernel=poly, score=0.9823008849557522, total=   0.0s\n",
      "[CV] degree=2, gamma=10.0, C=6.55155678791e-06, kernel=poly ..........\n",
      "[CV]  degree=2, gamma=10.0, C=6.55155678791e-06, kernel=poly, score=0.9844097995545658, total=   0.0s\n",
      "[CV] degree=2, gamma=10.0, C=6.55155678791e-06, kernel=poly ..........\n",
      "[CV]  degree=2, gamma=10.0, C=6.55155678791e-06, kernel=poly, score=0.984304932735426, total=   0.0s\n"
     ]
    },
    {
     "name": "stderr",
     "output_type": "stream",
     "text": [
      "[Parallel(n_jobs=1)]: Done   1 out of   1 | elapsed:    0.0s remaining:    0.0s\n",
      "[Parallel(n_jobs=1)]: Done   2 out of   2 | elapsed:    0.1s remaining:    0.0s\n",
      "[Parallel(n_jobs=1)]: Done   3 out of   3 | elapsed:    0.1s remaining:    0.0s\n",
      "[Parallel(n_jobs=1)]: Done   3 out of   3 | elapsed:    0.1s finished\n"
     ]
    },
    {
     "name": "stdout",
     "output_type": "stream",
     "text": [
      "Fitting 3 folds for each of 1 candidates, totalling 3 fits\n",
      "[CV] degree=1, gamma=4.99032756232e-06, C=388553.971362, kernel=linear \n",
      "[CV]  degree=1, gamma=4.99032756232e-06, C=388553.971362, kernel=linear, score=0.9712389380530974, total=   0.0s\n",
      "[CV] degree=1, gamma=4.99032756232e-06, C=388553.971362, kernel=linear \n",
      "[CV]  degree=1, gamma=4.99032756232e-06, C=388553.971362, kernel=linear, score=0.9755011135857461, total=   0.0s\n",
      "[CV] degree=1, gamma=4.99032756232e-06, C=388553.971362, kernel=linear \n",
      "[CV]  degree=1, gamma=4.99032756232e-06, C=388553.971362, kernel=linear, score=0.984304932735426, total=   0.0s\n"
     ]
    },
    {
     "name": "stderr",
     "output_type": "stream",
     "text": [
      "[Parallel(n_jobs=1)]: Done   1 out of   1 | elapsed:    0.0s remaining:    0.0s\n",
      "[Parallel(n_jobs=1)]: Done   2 out of   2 | elapsed:    0.1s remaining:    0.0s\n",
      "[Parallel(n_jobs=1)]: Done   3 out of   3 | elapsed:    0.1s remaining:    0.0s\n",
      "[Parallel(n_jobs=1)]: Done   3 out of   3 | elapsed:    0.1s finished\n"
     ]
    },
    {
     "name": "stdout",
     "output_type": "stream",
     "text": [
      "Fitting 3 folds for each of 1 candidates, totalling 3 fits\n",
      "[CV] degree=8, gamma=0.0501092064776, C=86818.5783829, kernel=poly ...\n",
      "[CV]  degree=8, gamma=0.0501092064776, C=86818.5783829, kernel=poly, score=0.9646017699115044, total=   0.0s\n",
      "[CV] degree=8, gamma=0.0501092064776, C=86818.5783829, kernel=poly ...\n",
      "[CV]  degree=8, gamma=0.0501092064776, C=86818.5783829, kernel=poly, score=0.9732739420935412, total=   0.0s\n",
      "[CV] degree=8, gamma=0.0501092064776, C=86818.5783829, kernel=poly ...\n",
      "[CV]  degree=8, gamma=0.0501092064776, C=86818.5783829, kernel=poly, score=0.9596412556053812, total=   0.0s\n"
     ]
    },
    {
     "name": "stderr",
     "output_type": "stream",
     "text": [
      "[Parallel(n_jobs=1)]: Done   1 out of   1 | elapsed:    0.0s remaining:    0.0s\n",
      "[Parallel(n_jobs=1)]: Done   2 out of   2 | elapsed:    0.1s remaining:    0.0s\n",
      "[Parallel(n_jobs=1)]: Done   3 out of   3 | elapsed:    0.1s remaining:    0.0s\n",
      "[Parallel(n_jobs=1)]: Done   3 out of   3 | elapsed:    0.1s finished\n"
     ]
    },
    {
     "name": "stdout",
     "output_type": "stream",
     "text": [
      "Fitting 3 folds for each of 1 candidates, totalling 3 fits\n",
      "[CV] degree=8, gamma=1.33606507118, C=3619.21247456, kernel=poly .....\n",
      "[CV]  degree=8, gamma=1.33606507118, C=3619.21247456, kernel=poly, score=0.9646017699115044, total=   0.0s\n",
      "[CV] degree=8, gamma=1.33606507118, C=3619.21247456, kernel=poly .....\n",
      "[CV]  degree=8, gamma=1.33606507118, C=3619.21247456, kernel=poly, score=0.9732739420935412, total=   0.0s\n",
      "[CV] degree=8, gamma=1.33606507118, C=3619.21247456, kernel=poly .....\n",
      "[CV]  degree=8, gamma=1.33606507118, C=3619.21247456, kernel=poly, score=0.9596412556053812, total=   0.0s\n"
     ]
    },
    {
     "name": "stderr",
     "output_type": "stream",
     "text": [
      "[Parallel(n_jobs=1)]: Done   1 out of   1 | elapsed:    0.0s remaining:    0.0s\n",
      "[Parallel(n_jobs=1)]: Done   2 out of   2 | elapsed:    0.1s remaining:    0.0s\n",
      "[Parallel(n_jobs=1)]: Done   3 out of   3 | elapsed:    0.1s remaining:    0.0s\n",
      "[Parallel(n_jobs=1)]: Done   3 out of   3 | elapsed:    0.1s finished\n"
     ]
    },
    {
     "name": "stdout",
     "output_type": "stream",
     "text": [
      "Fitting 3 folds for each of 1 candidates, totalling 3 fits\n",
      "[CV] degree=1, gamma=10.0, C=1000000.0, kernel=linear ................\n",
      "[CV]  degree=1, gamma=10.0, C=1000000.0, kernel=linear, score=0.9712389380530974, total=   0.0s\n",
      "[CV] degree=1, gamma=10.0, C=1000000.0, kernel=linear ................\n",
      "[CV]  degree=1, gamma=10.0, C=1000000.0, kernel=linear, score=0.9755011135857461, total=   0.0s\n",
      "[CV] degree=1, gamma=10.0, C=1000000.0, kernel=linear ................\n",
      "[CV]  degree=1, gamma=10.0, C=1000000.0, kernel=linear, score=0.984304932735426, total=   0.0s\n"
     ]
    },
    {
     "name": "stderr",
     "output_type": "stream",
     "text": [
      "[Parallel(n_jobs=1)]: Done   1 out of   1 | elapsed:    0.0s remaining:    0.0s\n",
      "[Parallel(n_jobs=1)]: Done   2 out of   2 | elapsed:    0.1s remaining:    0.0s\n",
      "[Parallel(n_jobs=1)]: Done   3 out of   3 | elapsed:    0.1s remaining:    0.0s\n",
      "[Parallel(n_jobs=1)]: Done   3 out of   3 | elapsed:    0.1s finished\n"
     ]
    },
    {
     "name": "stdout",
     "output_type": "stream",
     "text": [
      "Fitting 3 folds for each of 1 candidates, totalling 3 fits\n",
      "[CV] degree=1, gamma=1e-06, C=2.86935114977e-06, kernel=linear .......\n",
      "[CV]  degree=1, gamma=1e-06, C=2.86935114977e-06, kernel=linear, score=0.10619469026548672, total=   0.1s\n",
      "[CV] degree=1, gamma=1e-06, C=2.86935114977e-06, kernel=linear .......\n"
     ]
    },
    {
     "name": "stderr",
     "output_type": "stream",
     "text": [
      "[Parallel(n_jobs=1)]: Done   1 out of   1 | elapsed:    0.1s remaining:    0.0s\n",
      "[Parallel(n_jobs=1)]: Done   2 out of   2 | elapsed:    0.2s remaining:    0.0s\n"
     ]
    },
    {
     "name": "stdout",
     "output_type": "stream",
     "text": [
      "[CV]  degree=1, gamma=1e-06, C=2.86935114977e-06, kernel=linear, score=0.10690423162583519, total=   0.1s\n",
      "[CV] degree=1, gamma=1e-06, C=2.86935114977e-06, kernel=linear .......\n",
      "[CV]  degree=1, gamma=1e-06, C=2.86935114977e-06, kernel=linear, score=0.10538116591928251, total=   0.1s\n"
     ]
    },
    {
     "name": "stderr",
     "output_type": "stream",
     "text": [
      "[Parallel(n_jobs=1)]: Done   3 out of   3 | elapsed:    0.4s remaining:    0.0s\n",
      "[Parallel(n_jobs=1)]: Done   3 out of   3 | elapsed:    0.4s finished\n"
     ]
    },
    {
     "name": "stdout",
     "output_type": "stream",
     "text": [
      "Fitting 3 folds for each of 1 candidates, totalling 3 fits\n",
      "[CV] degree=2, gamma=0.0217824132735, C=2.04889301994e-05, kernel=poly \n",
      "[CV]  degree=2, gamma=0.0217824132735, C=2.04889301994e-05, kernel=poly, score=0.9203539823008849, total=   0.1s\n",
      "[CV] degree=2, gamma=0.0217824132735, C=2.04889301994e-05, kernel=poly \n",
      "[CV]  degree=2, gamma=0.0217824132735, C=2.04889301994e-05, kernel=poly, score=0.9487750556792873, total=   0.1s\n",
      "[CV] degree=2, gamma=0.0217824132735, C=2.04889301994e-05, kernel=poly \n"
     ]
    },
    {
     "name": "stderr",
     "output_type": "stream",
     "text": [
      "[Parallel(n_jobs=1)]: Done   1 out of   1 | elapsed:    0.1s remaining:    0.0s\n",
      "[Parallel(n_jobs=1)]: Done   2 out of   2 | elapsed:    0.2s remaining:    0.0s\n",
      "[Parallel(n_jobs=1)]: Done   3 out of   3 | elapsed:    0.2s remaining:    0.0s\n",
      "[Parallel(n_jobs=1)]: Done   3 out of   3 | elapsed:    0.2s finished\n"
     ]
    },
    {
     "name": "stdout",
     "output_type": "stream",
     "text": [
      "[CV]  degree=2, gamma=0.0217824132735, C=2.04889301994e-05, kernel=poly, score=0.9417040358744395, total=   0.1s\n",
      "Fitting 3 folds for each of 1 candidates, totalling 3 fits\n",
      "[CV] degree=6, gamma=0.000556957422895, C=0.000159465539446, kernel=poly \n",
      "[CV]  degree=6, gamma=0.000556957422895, C=0.000159465539446, kernel=poly, score=0.4911504424778761, total=   0.1s\n",
      "[CV] degree=6, gamma=0.000556957422895, C=0.000159465539446, kernel=poly \n"
     ]
    },
    {
     "name": "stderr",
     "output_type": "stream",
     "text": [
      "[Parallel(n_jobs=1)]: Done   1 out of   1 | elapsed:    0.1s remaining:    0.0s\n",
      "[Parallel(n_jobs=1)]: Done   2 out of   2 | elapsed:    0.3s remaining:    0.0s\n"
     ]
    },
    {
     "name": "stdout",
     "output_type": "stream",
     "text": [
      "[CV]  degree=6, gamma=0.000556957422895, C=0.000159465539446, kernel=poly, score=0.41870824053452116, total=   0.1s\n",
      "[CV] degree=6, gamma=0.000556957422895, C=0.000159465539446, kernel=poly \n",
      "[CV]  degree=6, gamma=0.000556957422895, C=0.000159465539446, kernel=poly, score=0.4013452914798206, total=   0.1s\n"
     ]
    },
    {
     "name": "stderr",
     "output_type": "stream",
     "text": [
      "[Parallel(n_jobs=1)]: Done   3 out of   3 | elapsed:    0.4s remaining:    0.0s\n",
      "[Parallel(n_jobs=1)]: Done   3 out of   3 | elapsed:    0.4s finished\n"
     ]
    },
    {
     "name": "stdout",
     "output_type": "stream",
     "text": [
      "Fitting 3 folds for each of 1 candidates, totalling 3 fits\n",
      "[CV] degree=6, gamma=0.0100605904716, C=418273.495458, kernel=poly ...\n",
      "[CV]  degree=6, gamma=0.0100605904716, C=418273.495458, kernel=poly, score=0.9823008849557522, total=   0.0s\n",
      "[CV] degree=6, gamma=0.0100605904716, C=418273.495458, kernel=poly ...\n",
      "[CV]  degree=6, gamma=0.0100605904716, C=418273.495458, kernel=poly, score=0.9821826280623608, total=   0.0s\n",
      "[CV] degree=6, gamma=0.0100605904716, C=418273.495458, kernel=poly ...\n",
      "[CV]  degree=6, gamma=0.0100605904716, C=418273.495458, kernel=poly, score=0.9775784753363229, total=   0.0s\n"
     ]
    },
    {
     "name": "stderr",
     "output_type": "stream",
     "text": [
      "[Parallel(n_jobs=1)]: Done   1 out of   1 | elapsed:    0.0s remaining:    0.0s\n",
      "[Parallel(n_jobs=1)]: Done   2 out of   2 | elapsed:    0.1s remaining:    0.0s\n",
      "[Parallel(n_jobs=1)]: Done   3 out of   3 | elapsed:    0.1s remaining:    0.0s\n",
      "[Parallel(n_jobs=1)]: Done   3 out of   3 | elapsed:    0.1s finished\n"
     ]
    },
    {
     "name": "stdout",
     "output_type": "stream",
     "text": [
      "Fitting 3 folds for each of 1 candidates, totalling 3 fits\n",
      "[CV] degree=6, gamma=0.789113786762, C=16236.0576816, kernel=poly ....\n",
      "[CV]  degree=6, gamma=0.789113786762, C=16236.0576816, kernel=poly, score=0.9823008849557522, total=   0.0s\n",
      "[CV] degree=6, gamma=0.789113786762, C=16236.0576816, kernel=poly ....\n",
      "[CV]  degree=6, gamma=0.789113786762, C=16236.0576816, kernel=poly, score=0.9821826280623608, total=   0.0s\n",
      "[CV] degree=6, gamma=0.789113786762, C=16236.0576816, kernel=poly ....\n",
      "[CV]  degree=6, gamma=0.789113786762, C=16236.0576816, kernel=poly, score=0.9775784753363229, total=   0.0s\n"
     ]
    },
    {
     "name": "stderr",
     "output_type": "stream",
     "text": [
      "[Parallel(n_jobs=1)]: Done   1 out of   1 | elapsed:    0.0s remaining:    0.0s\n",
      "[Parallel(n_jobs=1)]: Done   2 out of   2 | elapsed:    0.1s remaining:    0.0s\n",
      "[Parallel(n_jobs=1)]: Done   3 out of   3 | elapsed:    0.1s remaining:    0.0s\n",
      "[Parallel(n_jobs=1)]: Done   3 out of   3 | elapsed:    0.1s finished\n"
     ]
    },
    {
     "name": "stdout",
     "output_type": "stream",
     "text": [
      "Fitting 3 folds for each of 1 candidates, totalling 3 fits\n",
      "[CV] degree=2, gamma=10.0, C=2.62652357688e-06, kernel=poly ..........\n",
      "[CV]  degree=2, gamma=10.0, C=2.62652357688e-06, kernel=poly, score=0.9823008849557522, total=   0.0s\n",
      "[CV] degree=2, gamma=10.0, C=2.62652357688e-06, kernel=poly ..........\n",
      "[CV]  degree=2, gamma=10.0, C=2.62652357688e-06, kernel=poly, score=0.9844097995545658, total=   0.0s\n",
      "[CV] degree=2, gamma=10.0, C=2.62652357688e-06, kernel=poly ..........\n",
      "[CV]  degree=2, gamma=10.0, C=2.62652357688e-06, kernel=poly, score=0.984304932735426, total=   0.0s\n"
     ]
    },
    {
     "name": "stderr",
     "output_type": "stream",
     "text": [
      "[Parallel(n_jobs=1)]: Done   1 out of   1 | elapsed:    0.0s remaining:    0.0s\n",
      "[Parallel(n_jobs=1)]: Done   2 out of   2 | elapsed:    0.1s remaining:    0.0s\n",
      "[Parallel(n_jobs=1)]: Done   3 out of   3 | elapsed:    0.1s remaining:    0.0s\n",
      "[Parallel(n_jobs=1)]: Done   3 out of   3 | elapsed:    0.1s finished\n"
     ]
    },
    {
     "name": "stdout",
     "output_type": "stream",
     "text": [
      "Fitting 3 folds for each of 1 candidates, totalling 3 fits\n",
      "[CV] degree=6, gamma=1.13757857767e-06, C=10055.1733451, kernel=rbf ..\n",
      "[CV]  degree=6, gamma=1.13757857767e-06, C=10055.1733451, kernel=rbf, score=0.9690265486725663, total=   0.0s\n",
      "[CV] degree=6, gamma=1.13757857767e-06, C=10055.1733451, kernel=rbf ..\n",
      "[CV]  degree=6, gamma=1.13757857767e-06, C=10055.1733451, kernel=rbf, score=0.9755011135857461, total=   0.0s\n",
      "[CV] degree=6, gamma=1.13757857767e-06, C=10055.1733451, kernel=rbf ..\n",
      "[CV]  degree=6, gamma=1.13757857767e-06, C=10055.1733451, kernel=rbf, score=0.984304932735426, total=   0.0s\n"
     ]
    },
    {
     "name": "stderr",
     "output_type": "stream",
     "text": [
      "[Parallel(n_jobs=1)]: Done   1 out of   1 | elapsed:    0.0s remaining:    0.0s\n",
      "[Parallel(n_jobs=1)]: Done   2 out of   2 | elapsed:    0.1s remaining:    0.0s\n",
      "[Parallel(n_jobs=1)]: Done   3 out of   3 | elapsed:    0.1s remaining:    0.0s\n",
      "[Parallel(n_jobs=1)]: Done   3 out of   3 | elapsed:    0.1s finished\n"
     ]
    },
    {
     "name": "stdout",
     "output_type": "stream",
     "text": [
      "Fitting 3 folds for each of 1 candidates, totalling 3 fits\n",
      "[CV] degree=2, gamma=10.0, C=0.0038896777989, kernel=poly ............\n",
      "[CV]  degree=2, gamma=10.0, C=0.0038896777989, kernel=poly, score=0.9823008849557522, total=   0.0s\n",
      "[CV] degree=2, gamma=10.0, C=0.0038896777989, kernel=poly ............\n",
      "[CV]  degree=2, gamma=10.0, C=0.0038896777989, kernel=poly, score=0.9844097995545658, total=   0.0s\n",
      "[CV] degree=2, gamma=10.0, C=0.0038896777989, kernel=poly ............\n",
      "[CV]  degree=2, gamma=10.0, C=0.0038896777989, kernel=poly, score=0.984304932735426, total=   0.0s\n"
     ]
    },
    {
     "name": "stderr",
     "output_type": "stream",
     "text": [
      "[Parallel(n_jobs=1)]: Done   1 out of   1 | elapsed:    0.0s remaining:    0.0s\n",
      "[Parallel(n_jobs=1)]: Done   2 out of   2 | elapsed:    0.1s remaining:    0.0s\n",
      "[Parallel(n_jobs=1)]: Done   3 out of   3 | elapsed:    0.1s remaining:    0.0s\n",
      "[Parallel(n_jobs=1)]: Done   3 out of   3 | elapsed:    0.1s finished\n"
     ]
    },
    {
     "name": "stdout",
     "output_type": "stream",
     "text": [
      "Fitting 3 folds for each of 1 candidates, totalling 3 fits\n",
      "[CV] degree=6, gamma=2.92854136127e-06, C=5410.82057165, kernel=rbf ..\n",
      "[CV]  degree=6, gamma=2.92854136127e-06, C=5410.82057165, kernel=rbf, score=0.9690265486725663, total=   0.0s\n",
      "[CV] degree=6, gamma=2.92854136127e-06, C=5410.82057165, kernel=rbf ..\n",
      "[CV]  degree=6, gamma=2.92854136127e-06, C=5410.82057165, kernel=rbf, score=0.9755011135857461, total=   0.0s\n",
      "[CV] degree=6, gamma=2.92854136127e-06, C=5410.82057165, kernel=rbf ..\n",
      "[CV]  degree=6, gamma=2.92854136127e-06, C=5410.82057165, kernel=rbf, score=0.984304932735426, total=   0.0s\n"
     ]
    },
    {
     "name": "stderr",
     "output_type": "stream",
     "text": [
      "[Parallel(n_jobs=1)]: Done   1 out of   1 | elapsed:    0.0s remaining:    0.0s\n",
      "[Parallel(n_jobs=1)]: Done   2 out of   2 | elapsed:    0.1s remaining:    0.0s\n",
      "[Parallel(n_jobs=1)]: Done   3 out of   3 | elapsed:    0.1s remaining:    0.0s\n",
      "[Parallel(n_jobs=1)]: Done   3 out of   3 | elapsed:    0.1s finished\n"
     ]
    },
    {
     "name": "stdout",
     "output_type": "stream",
     "text": [
      "val. score: 0.985152190052\n",
      "test score: 0.984444444444\n"
     ]
    }
   ],
   "source": [
    "from skopt import BayesSearchCV\n",
    "from sklearn.datasets import load_digits\n",
    "from sklearn.svm import SVC\n",
    "from sklearn.model_selection import train_test_split\n",
    "\n",
    "X, y = load_digits(10, True)\n",
    "X_train, X_test, y_train, y_test = train_test_split(X, y, train_size=0.75, random_state=0)\n",
    "\n",
    "# log-uniform: understand as search over p = exp(x) by varying x\n",
    "opt = BayesSearchCV(\n",
    "    SVC(),\n",
    "    {\n",
    "        'C': (1e-6, 1e+6, 'log-uniform'),  \n",
    "        'gamma': (1e-6, 1e+1, 'log-uniform'),\n",
    "        'degree': (1, 8),  # integer valued parameter\n",
    "        'kernel': ['linear', 'poly', 'rbf'],  # categorical parameter\n",
    "    },\n",
    "    n_iter=32,\n",
    "    verbose=10\n",
    ")\n",
    "\n",
    "opt.fit(X_train, y_train)\n",
    "\n",
    "print(\"val. score: %s\" % opt.best_score_)\n",
    "print(\"test score: %s\" % opt.score(X_test, y_test))"
   ]
  },
  {
   "cell_type": "code",
   "execution_count": 3,
   "metadata": {},
   "outputs": [
    {
     "name": "stdout",
     "output_type": "stream",
     "text": [
      "val. score: 0.980697847068\n",
      "test score: 0.977777777778\n"
     ]
    }
   ],
   "source": [
    "from skopt import BayesSearchCV\n",
    "from skopt.space import Real, Categorical, Integer\n",
    "\n",
    "from sklearn.datasets import load_digits\n",
    "from sklearn.svm import LinearSVC, SVC\n",
    "from sklearn.pipeline import Pipeline\n",
    "from sklearn.model_selection import train_test_split\n",
    "\n",
    "X, y = load_digits(10, True)\n",
    "X_train, X_test, y_train, y_test = train_test_split(X, y, random_state=0)\n",
    "\n",
    "# pipeline class is used as estimator to enable \n",
    "# search over different model types\n",
    "pipe = Pipeline([\n",
    "    ('model', SVC())\n",
    "])\n",
    "\n",
    "# single categorical value of 'model' parameter is \n",
    "# sets the model class\n",
    "linsvc_search = {\n",
    "    'model': [LinearSVC(max_iter=10000)],\n",
    "    'model__C': (1e-6, 1e+6, 'log-uniform'),\n",
    "}\n",
    "\n",
    "# explicit dimension classes can be specified like this\n",
    "svc_search = {\n",
    "    'model': Categorical([SVC()]),\n",
    "    'model__C': Real(1e-6, 1e+6, prior='log-uniform'),\n",
    "    'model__gamma': Real(1e-6, 1e+1, prior='log-uniform'),\n",
    "    'model__degree': Integer(1,8),\n",
    "    'model__kernel': Categorical(['linear', 'poly', 'rbf']),\n",
    "}\n",
    "\n",
    "opt = BayesSearchCV(\n",
    "    pipe,\n",
    "    [(svc_search, 20), (linsvc_search, 16)], # (parameter space, # of evaluations)\n",
    ")\n",
    "\n",
    "opt.fit(X_train, y_train)\n",
    "\n",
    "print(\"val. score: %s\" % opt.best_score_)\n",
    "print(\"test score: %s\" % opt.score(X_test, y_test))\n"
   ]
  },
  {
   "cell_type": "code",
   "execution_count": 5,
   "metadata": {},
   "outputs": [
    {
     "name": "stdout",
     "output_type": "stream",
     "text": [
      "best score: 0.933333333333\n",
      "best score: 0.98\n",
      "Interrupting!\n"
     ]
    },
    {
     "data": {
      "text/plain": [
       "BayesSearchCV(cv=None, error_score='raise',\n",
       "       estimator=SVC(C=1.0, cache_size=200, class_weight=None, coef0=0.0,\n",
       "  decision_function_shape='ovr', degree=3, gamma='auto', kernel='rbf',\n",
       "  max_iter=-1, probability=False, random_state=None, shrinking=True,\n",
       "  tol=0.001, verbose=False),\n",
       "       fit_params=None, iid=True, n_iter=10, n_jobs=1, n_points=1,\n",
       "       optimizer_kwargs=None, pre_dispatch='2*n_jobs', random_state=None,\n",
       "       refit=True, return_train_score=False, scoring=None,\n",
       "       search_spaces={'C': (0.01, 100.0, 'log-uniform')}, verbose=0)"
      ]
     },
     "execution_count": 5,
     "metadata": {},
     "output_type": "execute_result"
    }
   ],
   "source": [
    "from skopt import BayesSearchCV\n",
    "\n",
    "from sklearn.datasets import load_iris\n",
    "from sklearn.svm import SVC\n",
    "\n",
    "X, y = load_iris(True)\n",
    "\n",
    "searchcv = BayesSearchCV(\n",
    "    SVC(),\n",
    "    search_spaces={'C': (0.01, 100.0, 'log-uniform')},\n",
    "    n_iter=10\n",
    ")\n",
    "\n",
    "\n",
    "# callback handler\n",
    "def on_step(optim_result):\n",
    "    score = searchcv.best_score_\n",
    "    print(\"best score: %s\" % score)\n",
    "    if score >= 0.97:\n",
    "        print('Interrupting!')\n",
    "        return True\n",
    "\n",
    "\n",
    "searchcv.fit(X, y, callback=on_step)"
   ]
  },
  {
   "cell_type": "code",
   "execution_count": null,
   "metadata": {},
   "outputs": [],
   "source": []
  }
 ],
 "metadata": {
  "kernelspec": {
   "display_name": "Python 3.5 (env_alphatools_stable)",
   "language": "python",
   "name": "env_alphatools_stable"
  },
  "language_info": {
   "codemirror_mode": {
    "name": "ipython",
    "version": 2
   },
   "file_extension": ".py",
   "mimetype": "text/x-python",
   "name": "python",
   "nbconvert_exporter": "python",
   "pygments_lexer": "ipython2",
   "version": "2.7.15"
  }
 },
 "nbformat": 4,
 "nbformat_minor": 2
}
