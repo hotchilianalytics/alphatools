{
 "cells": [
  {
   "cell_type": "code",
   "execution_count": 1,
   "metadata": {},
   "outputs": [
    {
     "name": "stdout",
     "output_type": "stream",
     "text": [
      "                                             col_A  col_B  price\n",
      "2016-01-05 00:00:00+00:00 Equity(0 [A])     1468.0   True  40.69\n",
      "                          Equity(11 [AAL])  1469.0  False  40.91\n",
      "2016-01-06 00:00:00+00:00 Equity(0 [A])     1470.0   True  40.55\n",
      "                          Equity(11 [AAL])  1471.0  False  40.52\n",
      "2016-01-07 00:00:00+00:00 Equity(0 [A])     1472.0   True  40.73\n",
      "                          Equity(11 [AAL])  1473.0  False  41.23\n"
     ]
    }
   ],
   "source": [
    "from zipline.data import bundles\n",
    "from zipline.pipeline import Pipeline\n",
    "from zipline.pipeline.data import USEquityPricing\n",
    "from zipline.pipeline.data import Column  \n",
    "from zipline.pipeline.data import DataSet\n",
    "from zipline.pipeline.engine import SimplePipelineEngine\n",
    "from zipline.pipeline.filters import StaticAssets\n",
    "from zipline.pipeline.loaders import USEquityPricingLoader\n",
    "from zipline.pipeline.loaders.frame import DataFrameLoader\n",
    "from zipline.utils.calendars import get_calendar\n",
    "\n",
    "import numpy as np\n",
    "import pandas as pd\n",
    "\n",
    "trading_calendar = get_calendar('NYSE')\n",
    "bundle_data = bundles.load('sharadar-prices')\n",
    "\n",
    "\n",
    "# Set up Custom Data Source for two sids for DataFrameLoader\n",
    "class MyDataSet(DataSet):  \n",
    "    column_A = Column(dtype=float)\n",
    "    column_B = Column(dtype=bool) \n",
    "\n",
    "dates = pd.date_range('2014-01-01', '2017-01-01', tz='UTC')\n",
    "assets = bundle_data.asset_finder.lookup_symbols(['A', 'AAL'], as_of_date=None)\n",
    "sids = pd.Int64Index([asset.sid for asset in assets])\n",
    "\n",
    "# The values for Column A will just be a 2D array of numbers ranging from 1 -> N.  \n",
    "column_A_frame = pd.DataFrame(  \n",
    "    data=np.arange(len(dates)*len(assets), dtype=float).reshape(len(dates), len(assets)),  \n",
    "    index=dates,\n",
    "    columns=sids,\n",
    ")\n",
    "\n",
    "# Column B will always provide True for 0 and False for 1.  \n",
    "column_B_frame = pd.DataFrame(data={sids[0]: True, sids[1]: False}, index=dates)\n",
    "\n",
    "loaders = {  \n",
    "    MyDataSet.column_A: DataFrameLoader(MyDataSet.column_A, column_A_frame),  \n",
    "    MyDataSet.column_B: DataFrameLoader(MyDataSet.column_B, column_B_frame),  \n",
    "}\n",
    "\n",
    "def my_dispatcher(column):\n",
    "    return loaders[column]\n",
    "\n",
    "\n",
    "# Set up pipeline engine\n",
    "\n",
    "# Loader for pricing\n",
    "pipeline_loader = USEquityPricingLoader(\n",
    "    bundle_data.equity_daily_bar_reader,\n",
    "    bundle_data.adjustment_reader,\n",
    ")\n",
    "\n",
    "def choose_loader(column):\n",
    "    if column in USEquityPricing.columns:\n",
    "        return pipeline_loader\n",
    "    return my_dispatcher(column)\n",
    "\n",
    "engine = SimplePipelineEngine(\n",
    "    get_loader=choose_loader,\n",
    "    calendar=trading_calendar.all_sessions,\n",
    "    asset_finder=bundle_data.asset_finder,\n",
    ")\n",
    "\n",
    "p = Pipeline(\n",
    "    columns={\n",
    "        'price': USEquityPricing.close.latest,\n",
    "        'col_A': MyDataSet.column_A.latest,\n",
    "        'col_B': MyDataSet.column_B.latest\n",
    "    },\n",
    "    screen=StaticAssets(assets)\n",
    ")\n",
    "\n",
    "df = engine.run_pipeline(\n",
    "    p,\n",
    "    pd.Timestamp('2016-01-05', tz='utc'),\n",
    "    pd.Timestamp('2016-01-07', tz='utc')\n",
    ")\n",
    "\n",
    "print(df)"
   ]
  },
  {
   "cell_type": "code",
   "execution_count": 2,
   "metadata": {},
   "outputs": [],
   "source": [
    "import zipline as zl\n"
   ]
  },
  {
   "cell_type": "code",
   "execution_count": 6,
   "metadata": {},
   "outputs": [
    {
     "data": {
      "text/plain": [
       "<module 'zipline.extensions' from '/home/ubuntu/hca/zipline/zipline/extensions.py'>"
      ]
     },
     "execution_count": 6,
     "metadata": {},
     "output_type": "execute_result"
    }
   ],
   "source": [
    "zl.extensions"
   ]
  },
  {
   "cell_type": "code",
   "execution_count": 2,
   "metadata": {},
   "outputs": [
    {
     "name": "stdout",
     "output_type": "stream",
     "text": [
      "1.11.3\n"
     ]
    }
   ],
   "source": [
    "print(np.__version__)"
   ]
  },
  {
   "cell_type": "code",
   "execution_count": 7,
   "metadata": {},
   "outputs": [],
   "source": [
    "loader = my_dispatcher(MyDataSet.column_A)\n",
    "adj_array = loader.load_adjusted_array(\n",
    "    [MyDataSet.column_A],\n",
    "    dates,\n",
    "    sids,\n",
    "    np.ones((len(dates), len(sids)), dtype=bool)\n",
    ")\n"
   ]
  },
  {
   "cell_type": "code",
   "execution_count": 8,
   "metadata": {},
   "outputs": [
    {
     "name": "stdout",
     "output_type": "stream",
     "text": [
      "Adjusted Array (float64):\n",
      "\n",
      "Data:\n",
      "array([[0.000e+00, 1.000e+00],\n",
      "       [2.000e+00, 3.000e+00],\n",
      "       [4.000e+00, 5.000e+00],\n",
      "       ...,\n",
      "       [2.188e+03, 2.189e+03],\n",
      "       [2.190e+03, 2.191e+03],\n",
      "       [2.192e+03, 2.193e+03]])\n",
      "\n",
      "Adjustments:\n",
      "{}\n",
      "\n"
     ]
    }
   ],
   "source": [
    "print(list(adj_array.values())[0].inspect())"
   ]
  },
  {
   "cell_type": "code",
   "execution_count": 5,
   "metadata": {},
   "outputs": [
    {
     "data": {
      "text/plain": [
       "zipline.pipeline.data.dataset.BoundColumn"
      ]
     },
     "execution_count": 5,
     "metadata": {},
     "output_type": "execute_result"
    }
   ],
   "source": [
    "type(MyDataSet.column_A)"
   ]
  },
  {
   "cell_type": "code",
   "execution_count": 6,
   "metadata": {},
   "outputs": [
    {
     "data": {
      "text/plain": [
       "Int64Index([0, 2], dtype='int64')"
      ]
     },
     "execution_count": 6,
     "metadata": {},
     "output_type": "execute_result"
    }
   ],
   "source": [
    "column_A_frame.columns"
   ]
  },
  {
   "cell_type": "code",
   "execution_count": null,
   "metadata": {},
   "outputs": [],
   "source": []
  },
  {
   "cell_type": "code",
   "execution_count": null,
   "metadata": {},
   "outputs": [],
   "source": []
  }
 ],
 "metadata": {
  "hide_input": false,
  "kernelspec": {
   "display_name": "env_hca_live",
   "language": "python",
   "name": "env_hca_live"
  },
  "language_info": {
   "codemirror_mode": {
    "name": "ipython",
    "version": 3
   },
   "file_extension": ".py",
   "mimetype": "text/x-python",
   "name": "python",
   "nbconvert_exporter": "python",
   "pygments_lexer": "ipython3",
   "version": "3.6.7"
  },
  "varInspector": {
   "cols": {
    "lenName": 16,
    "lenType": 16,
    "lenVar": 40
   },
   "kernels_config": {
    "python": {
     "delete_cmd_postfix": "",
     "delete_cmd_prefix": "del ",
     "library": "var_list.py",
     "varRefreshCmd": "print(var_dic_list())"
    },
    "r": {
     "delete_cmd_postfix": ") ",
     "delete_cmd_prefix": "rm(",
     "library": "var_list.r",
     "varRefreshCmd": "cat(var_dic_list()) "
    }
   },
   "types_to_exclude": [
    "module",
    "function",
    "builtin_function_or_method",
    "instance",
    "_Feature"
   ],
   "window_display": false
  }
 },
 "nbformat": 4,
 "nbformat_minor": 2
}
